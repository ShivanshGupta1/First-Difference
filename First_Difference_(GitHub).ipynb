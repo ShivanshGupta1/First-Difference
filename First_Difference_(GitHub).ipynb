{
  "nbformat": 4,
  "nbformat_minor": 0,
  "metadata": {
    "colab": {
      "name": "First Difference (GitHub).ipynb",
      "provenance": [],
      "authorship_tag": "ABX9TyNdK0Pr8Goqu+U0tATZPR0U",
      "include_colab_link": true
    },
    "kernelspec": {
      "name": "python3",
      "display_name": "Python 3"
    }
  },
  "cells": [
    {
      "cell_type": "markdown",
      "metadata": {
        "id": "view-in-github",
        "colab_type": "text"
      },
      "source": [
        "<a href=\"https://colab.research.google.com/github/ShivanshGupta1/First-Difference/blob/main/First_Difference_(GitHub).ipynb\" target=\"_parent\"><img src=\"https://colab.research.google.com/assets/colab-badge.svg\" alt=\"Open In Colab\"/></a>"
      ]
    },
    {
      "cell_type": "code",
      "metadata": {
        "id": "HqaBVslFgD1M"
      },
      "source": [
        "def first_diff(a,b):\n",
        "  if a!=b:\n",
        "    if len(a)>=len(b):\n",
        "      for i in range(len(a)):\n",
        "        if a[i]!=b[i]:\n",
        "          print(i)\n",
        "          break\n",
        "    elif len(b)>=len(a):\n",
        "      for i in range(len(b)):\n",
        "        if a[i]!=b[i]:\n",
        "          print(i)\n",
        "          break\n",
        "  else:\n",
        "    return -1\n",
        "a = input('String A: ')\n",
        "b = input('String B: ')\n",
        "first_diff(a,b)"
      ],
      "execution_count": null,
      "outputs": []
    }
  ]
}